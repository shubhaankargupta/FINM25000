{
 "cells": [
  {
   "cell_type": "code",
   "execution_count": 54,
   "id": "581149d8-8bdf-4758-b7e6-152a090868b9",
   "metadata": {},
   "outputs": [],
   "source": [
    "import yfinance as yf\n",
    "import pandas as pd\n",
    "import numpy as np\n",
    "from backtesting import Backtest, Strategy\n",
    "from backtesting.lib import crossover\n",
    "from backtesting.test import SMA\n",
    "import ipywidgets as widgets\n",
    "from IPython.display import display, clear_output\n",
    "\n",
    "def RSI(arr, period=14):\n",
    "    series = pd.Series(arr)\n",
    "    delta = series.diff()\n",
    "    gain = (delta.where(delta > 0, 0)).rolling(period).mean()\n",
    "    loss = (-delta.where(delta < 0, 0)).rolling(period).mean()\n",
    "    rs = gain / loss\n",
    "    rsi = 100 - (100 / (1 + rs))\n",
    "    return rsi.values"
   ]
  },
  {
   "cell_type": "code",
   "execution_count": 55,
   "id": "8eb608f6-fdaf-48ec-a524-47e434c050cb",
   "metadata": {},
   "outputs": [],
   "source": [
    "class SmaCross(Strategy):\n",
    "    n1 = 50\n",
    "    n2 = 200\n",
    "\n",
    "    def init(self):\n",
    "        close = self.data.Close\n",
    "        self.sma1 = self.I(SMA, close, self.n1)\n",
    "        self.sma2 = self.I(SMA, close, self.n2)\n",
    "\n",
    "    def next(self):\n",
    "        if crossover(self.sma1, self.sma2):\n",
    "            self.buy()\n",
    "        elif crossover(self.sma2, self.sma1):\n",
    "            self.position.close()\n",
    "\n",
    "class RsiStrategy(Strategy):\n",
    "    period = 14\n",
    "    overbought = 70\n",
    "    oversold = 30\n",
    "\n",
    "    def init(self):\n",
    "        close = self.data.Close\n",
    "        self.rsi = self.I(RSI, close, self.period)\n",
    "\n",
    "    def next(self):\n",
    "        if self.rsi[-1] < self.oversold and not self.position.is_long:\n",
    "            self.buy()\n",
    "        elif self.rsi[-1] > self.overbought and self.position.is_long:\n",
    "            self.position.close()"
   ]
  },
  {
   "cell_type": "code",
   "execution_count": 56,
   "id": "d53b7cf6-915d-4dfb-adf6-ad0d2a0f98f0",
   "metadata": {},
   "outputs": [],
   "source": [
    "def run_backtest(ticker='AAPL', start='2020-01-01', end='2023-01-01', strategy_name='SMA'):\n",
    "    print(f\"Downloading data for {ticker} from {start} to {end} ...\")\n",
    "    data = yf.download(ticker, start=start, end=end, auto_adjust=True)\n",
    "    if isinstance(data.columns, pd.MultiIndex):\n",
    "        data.columns = data.columns.get_level_values(0)\n",
    "\n",
    "    if strategy_name.upper() == 'SMA':\n",
    "        strategy = SmaCross\n",
    "    elif strategy_name.upper() == 'RSI':\n",
    "        strategy = RsiStrategy\n",
    "    else:\n",
    "        print(f\"Unknown strategy {strategy_name}, using SMA by default.\")\n",
    "        strategy = SmaCross\n",
    "\n",
    "    print(f\"Running backtest for {strategy_name} strategy...\")\n",
    "    bt = Backtest(data, strategy, cash=10_000, commission=0.001)\n",
    "    stats = bt.run()\n",
    "    print(stats)\n",
    "    bt.plot(resample=False, superimpose=False)"
   ]
  },
  {
   "cell_type": "code",
   "execution_count": 57,
   "id": "fbe95bef-4c26-4c19-95c3-5b0f8374b10d",
   "metadata": {},
   "outputs": [
    {
     "data": {
      "application/vnd.jupyter.widget-view+json": {
       "model_id": "5a12a7bcfc5a43748c77e5a5e0869e73",
       "version_major": 2,
       "version_minor": 0
      },
      "text/plain": [
       "Text(value='AAPL', description='Ticker:', style=DescriptionStyle(description_width='initial'))"
      ]
     },
     "metadata": {},
     "output_type": "display_data"
    },
    {
     "data": {
      "application/vnd.jupyter.widget-view+json": {
       "model_id": "68c22a7027094400ba33a15af6d15670",
       "version_major": 2,
       "version_minor": 0
      },
      "text/plain": [
       "Text(value='2020-01-01', description='Start Date:', style=DescriptionStyle(description_width='initial'))"
      ]
     },
     "metadata": {},
     "output_type": "display_data"
    },
    {
     "data": {
      "application/vnd.jupyter.widget-view+json": {
       "model_id": "ba64e499aa4449a59a269b3175ff38e0",
       "version_major": 2,
       "version_minor": 0
      },
      "text/plain": [
       "Text(value='2023-01-01', description='End Date:', style=DescriptionStyle(description_width='initial'))"
      ]
     },
     "metadata": {},
     "output_type": "display_data"
    },
    {
     "data": {
      "application/vnd.jupyter.widget-view+json": {
       "model_id": "dee1364c31334bd0afde888e94687b44",
       "version_major": 2,
       "version_minor": 0
      },
      "text/plain": [
       "Dropdown(description='Strategy:', options=('SMA Crossover', 'RSI'), style=DescriptionStyle(description_width='…"
      ]
     },
     "metadata": {},
     "output_type": "display_data"
    },
    {
     "data": {
      "application/vnd.jupyter.widget-view+json": {
       "model_id": "f079a3d409434520b9def8c1ef6d5d52",
       "version_major": 2,
       "version_minor": 0
      },
      "text/plain": [
       "Button(button_style='success', description='Run Backtest', style=ButtonStyle())"
      ]
     },
     "metadata": {},
     "output_type": "display_data"
    }
   ],
   "source": [
    "ticker_widget = widgets.Text(value='AAPL', description='Ticker:', style={'description_width': 'initial'})\n",
    "start_widget = widgets.Text(value='2020-01-01', description='Start Date:', style={'description_width': 'initial'})\n",
    "end_widget = widgets.Text(value='2023-01-01', description='End Date:', style={'description_width': 'initial'})\n",
    "strategy_widget = widgets.Dropdown(\n",
    "    options=['SMA Crossover', 'RSI'],\n",
    "    value='SMA Crossover',\n",
    "    description='Strategy:',\n",
    "    style={'description_width': 'initial'}\n",
    ")\n",
    "run_button = widgets.Button(description=\"Run Backtest\", button_style='success')\n",
    "\n",
    "def on_run_button_clicked(b):\n",
    "    run_backtest(\n",
    "        ticker_widget.value,\n",
    "        start_widget.value,\n",
    "        end_widget.value,\n",
    "        strategy_widget.value\n",
    "    )\n",
    "\n",
    "run_button.on_click(on_run_button_clicked)\n",
    "\n",
    "# Display widgets\n",
    "display(ticker_widget, start_widget, end_widget, strategy_widget, run_button)"
   ]
  }
 ],
 "metadata": {
  "kernelspec": {
   "display_name": "Python 3 (ipykernel)",
   "language": "python",
   "name": "python3"
  },
  "language_info": {
   "codemirror_mode": {
    "name": "ipython",
    "version": 3
   },
   "file_extension": ".py",
   "mimetype": "text/x-python",
   "name": "python",
   "nbconvert_exporter": "python",
   "pygments_lexer": "ipython3",
   "version": "3.11.7"
  }
 },
 "nbformat": 4,
 "nbformat_minor": 5
}
