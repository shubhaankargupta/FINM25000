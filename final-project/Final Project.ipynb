{
 "cells": [
  {
   "cell_type": "code",
   "execution_count": 50,
   "id": "01c2d05f-cb19-49fb-a9a1-0a0f56b0f558",
   "metadata": {},
   "outputs": [],
   "source": [
    "import alpaca_trade_api as tradeapi\n",
    "from alpaca_trade_api.rest import TimeFrame\n",
    "from datetime import datetime, timedelta\n",
    "import pandas as pd\n",
    "import numpy as np\n",
    "import time\n",
    "\n",
    "# Load your keys\n",
    "API_KEY = 'API KEY'\n",
    "SECRET_KEY = 'SECRET KEY'\n",
    "BASE_URL = 'https://paper-api.alpaca.markets'\n",
    "\n",
    "\n",
    "symbol      = 'JNJ'\n",
    "window      = 20\n",
    "z_entry     = 1.0\n",
    "qty         = 10\n",
    "\n",
    "api = tradeapi.REST(API_KEY, SECRET_KEY, BASE_URL)\n",
    "account = api.get_account()\n",
    "print(account.status, account.buying_power)\n",
    "\n",
    "\n",
    "\n",
    "end   = datetime.today()\n",
    "start = end - timedelta(days=60)\n",
    "\n",
    "end_str   = end.strftime(\"%Y-%m-%d\")\n",
    "start_str = start.strftime(\"%Y-%m-%d\")\n",
    "\n",
    "jnj_df = api.get_bars(\"JNJ\", TimeFrame.Day, start=start_str, end=end_str, feed=\"iex\").df\n",
    "print(jnj_df.tail())\n",
    "\n",
    "jnj_df['mean'] = jnj_df['close'].rolling(window).mean()\n",
    "jnj_df['std']  = jnj_df['close'].rolling(window).std()\n",
    "jnj_df.dropna(inplace=True)\n",
    "\n",
    "\n",
    "current = jnj_df.iloc[-1]\n",
    "z = (current['close'] - current['mean']) / current['std']\n",
    "\n",
    "print(f\"close={current['close']:.2f}, mean={current['mean']:.2f}, std={current['std']:.2f}, z={z:.2f}\")\n",
    "\n",
    "try:\n",
    "    pos = api.get_position(symbol)\n",
    "    current_qty = int(pos.qty)\n",
    "except Exception:\n",
    "    current_qty = 0\n",
    "\n",
    "if z < -z_entry and current_qty <= 0:\n",
    "    print(f\"BUY {qty} shares\")\n",
    "    api.submit_order(symbol=symbol, qty=qty, side='buy', type='market', time_in_force='gtc')\n",
    "\n",
    "elif z > z_entry and current_qty >= 0:\n",
    "    print(f\"SELL SHORT {qty} shares\")\n",
    "    api.submit_order(symbol=symbol, qty=qty, side='sell', type='market', time_in_force='gtc')\n",
    "\n",
    "elif abs(z) < 0.5 and current_qty != 0:\n",
    "    side = 'sell' if current_qty > 0 else 'buy'\n",
    "    print(\"Close position\")\n",
    "    api.submit_order(symbol=symbol, qty=abs(current_qty), side=side, type='market', time_in_force='gtc')\n",
    "else:\n",
    "    print(\"No trade action\")\n",
    "\n",
    "\n",
    "jnj_df.to_csv(\"jnj_bars.csv\")\n",
    "jnj_df = pd.read_csv(\"jnj_bars.csv\", index_col=0)"
   ]
  },
  {
   "cell_type": "code",
   "execution_count": 51,
   "id": "5380b8d7-bbdc-48d4-bd96-831177600326",
   "metadata": {},
   "outputs": [
    {
     "name": "stdout",
     "output_type": "stream",
     "text": [
      "ACTIVE 200000\n"
     ]
    }
   ],
   "source": [
    "api = tradeapi.REST(API_KEY, SECRET_KEY, BASE_URL)\n",
    "account = api.get_account()\n",
    "print(account.status, account.buying_power)"
   ]
  },
  {
   "cell_type": "code",
   "execution_count": 59,
   "id": "7dbdd441-f053-48f8-8901-28d0ea48039d",
   "metadata": {},
   "outputs": [
    {
     "name": "stdout",
     "output_type": "stream",
     "text": [
      "                             close    high     low  trade_count    open  \\\n",
      "timestamp                                                                 \n",
      "2025-08-11 04:00:00+00:00  173.920  174.49  173.07         4118  173.51   \n",
      "2025-08-12 04:00:00+00:00  172.785  174.74  171.81         3873  174.12   \n",
      "2025-08-13 04:00:00+00:00  174.380  174.54  172.76         3720  173.04   \n",
      "2025-08-14 04:00:00+00:00  174.730  175.71  172.81         4176  174.17   \n",
      "2025-08-15 04:00:00+00:00  176.660  177.24  175.36         5527  175.42   \n",
      "\n",
      "                           volume        vwap  \n",
      "timestamp                                      \n",
      "2025-08-11 04:00:00+00:00  212965  173.744012  \n",
      "2025-08-12 04:00:00+00:00  209193  172.876115  \n",
      "2025-08-13 04:00:00+00:00  197600  173.973936  \n",
      "2025-08-14 04:00:00+00:00  251232  174.569512  \n",
      "2025-08-15 04:00:00+00:00  288598  176.353783  \n"
     ]
    }
   ],
   "source": [
    "end   = datetime.today()\n",
    "start = end - timedelta(days=60)\n",
    "\n",
    "end_str   = end.strftime(\"%Y-%m-%d\")\n",
    "start_str = start.strftime(\"%Y-%m-%d\")\n",
    "\n",
    "jnj_df = api.get_bars(\"JNJ\", TimeFrame.Day, start=start_str, end=end_str, feed=\"iex\").df\n",
    "print(jnj_df.tail())"
   ]
  },
  {
   "cell_type": "code",
   "execution_count": 62,
   "id": "a6184d77-25c5-4d8d-964c-425e98ebb3b5",
   "metadata": {
    "scrolled": true
   },
   "outputs": [
    {
     "name": "stdout",
     "output_type": "stream",
     "text": [
      "close=176.66, mean=170.13, std=3.43, z=1.90\n",
      "SELL SHORT 10 shares\n"
     ]
    }
   ],
   "source": [
    "jnj_df['mean'] = jnj_df['close'].rolling(window).mean()\n",
    "jnj_df['std']  = jnj_df['close'].rolling(window).std()\n",
    "jnj_df.dropna(inplace=True)\n",
    "\n",
    "\n",
    "current = jnj_df.iloc[-1]\n",
    "z = (current['close'] - current['mean']) / current['std']\n",
    "\n",
    "print(f\"close={current['close']:.2f}, mean={current['mean']:.2f}, std={current['std']:.2f}, z={z:.2f}\")\n",
    "\n",
    "try:\n",
    "    pos = api.get_position(symbol)\n",
    "    current_qty = int(pos.qty)\n",
    "except Exception:\n",
    "    current_qty = 0\n",
    "\n",
    "if z < -z_entry and current_qty <= 0:\n",
    "    print(f\"BUY {qty} shares\")\n",
    "    api.submit_order(symbol=symbol, qty=qty, side='buy', type='market', time_in_force='gtc')\n",
    "\n",
    "elif z > z_entry and current_qty >= 0:\n",
    "    print(f\"SELL SHORT {qty} shares\")\n",
    "    api.submit_order(symbol=symbol, qty=qty, side='sell', type='market', time_in_force='gtc')\n",
    "\n",
    "elif abs(z) < 0.5 and current_qty != 0:\n",
    "    side = 'sell' if current_qty > 0 else 'buy'\n",
    "    print(\"Close position\")\n",
    "    api.submit_order(symbol=symbol, qty=abs(current_qty), side=side, type='market', time_in_force='gtc')\n",
    "else:\n",
    "    print(\"No trade action\")\n",
    "\n",
    "\n",
    "jnj_df.to_csv(\"jnj_bars.csv\")\n",
    "jnj_df = pd.read_csv(\"jnj_bars.csv\", index_col=0)"
   ]
  },
  {
   "cell_type": "code",
   "execution_count": 63,
   "id": "0d7f9051-a7e7-4113-a862-986adb76c05d",
   "metadata": {},
   "outputs": [],
   "source": []
  }
 ],
 "metadata": {
  "kernelspec": {
   "display_name": "Python 3 (ipykernel)",
   "language": "python",
   "name": "python3"
  },
  "language_info": {
   "codemirror_mode": {
    "name": "ipython",
    "version": 3
   },
   "file_extension": ".py",
   "mimetype": "text/x-python",
   "name": "python",
   "nbconvert_exporter": "python",
   "pygments_lexer": "ipython3",
   "version": "3.11.7"
  }
 },
 "nbformat": 4,
 "nbformat_minor": 5
}
